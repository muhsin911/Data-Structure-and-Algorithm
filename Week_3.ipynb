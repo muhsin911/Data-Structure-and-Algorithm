{
 "cells": [
  {
   "cell_type": "code",
   "execution_count": null,
   "id": "032a54ca",
   "metadata": {},
   "outputs": [
    {
     "name": "stdout",
     "output_type": "stream",
     "text": [
      "hello World\n"
     ]
    }
   ],
   "source": [
    "print(\"hello World\")"
   ]
  },
  {
   "cell_type": "markdown",
   "id": "e0b7129c",
   "metadata": {},
   "source": [
    "# Week 3"
   ]
  },
  {
   "cell_type": "markdown",
   "id": "e3341d43",
   "metadata": {},
   "source": [
    "## Loop"
   ]
  },
  {
   "cell_type": "markdown",
   "id": "d262187b",
   "metadata": {},
   "source": [
    "##### For Loop"
   ]
  },
  {
   "cell_type": "code",
   "execution_count": null,
   "id": "6bc24e30",
   "metadata": {},
   "outputs": [
    {
     "name": "stdout",
     "output_type": "stream",
     "text": [
      "0\n",
      "1\n",
      "2\n",
      "3\n",
      "4\n",
      "5\n",
      "6\n",
      "7\n",
      "8\n",
      "9\n"
     ]
    }
   ],
   "source": [
    "for i in range(10):\n",
    "    print(i)"
   ]
  },
  {
   "cell_type": "code",
   "execution_count": null,
   "id": "b3354f7d",
   "metadata": {},
   "outputs": [],
   "source": [
    "n =  int(input(\"Enter the number\"))\n",
    "if n%2 == 0:\n",
    "    for i in range (2,11,2):\n",
    "        print(i)\n",
    "else:\n",
    "    for i in range (1,10,2):\n",
    "        print(i)"
   ]
  },
  {
   "cell_type": "code",
   "execution_count": null,
   "id": "ec568ffc",
   "metadata": {},
   "outputs": [],
   "source": [
    "n = int(input(\"Enter the Number to multiply : \"))\n",
    "n1 = int(input(\"Enter multiplication Range : \"))\n",
    "\n",
    "for i in range(n1):\n",
    "    print(n, \"X\", i+1,\"=\", n*(i+1))"
   ]
  },
  {
   "cell_type": "code",
   "execution_count": null,
   "id": "8451d469",
   "metadata": {},
   "outputs": [],
   "source": [
    "n = int(input(\"Enter the no.of rows : \"))\n",
    "n1 = int(input(\"Enter no.of columns : \"))\n",
    "\n",
    "for i in range(1,n+1):\n",
    "    for j in range(1,n1+1):\n",
    "        print(i*j, end=\"  \")\n",
    "    print()    "
   ]
  }
 ],
 "metadata": {
  "kernelspec": {
   "display_name": "venv",
   "language": "python",
   "name": "python3"
  },
  "language_info": {
   "codemirror_mode": {
    "name": "ipython",
    "version": 3
   },
   "file_extension": ".py",
   "mimetype": "text/x-python",
   "name": "python",
   "nbconvert_exporter": "python",
   "pygments_lexer": "ipython3",
   "version": "3.12.3"
  }
 },
 "nbformat": 4,
 "nbformat_minor": 5
}
