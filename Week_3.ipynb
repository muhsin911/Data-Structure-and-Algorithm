{
 "cells": [
  {
   "cell_type": "code",
   "execution_count": 2,
   "id": "d7162aa2",
   "metadata": {},
   "outputs": [],
   "source": [
    "# Loop"
   ]
  },
  {
   "cell_type": "markdown",
   "id": "9ae3f1f2",
   "metadata": {},
   "source": [
    "print(\"hello World\")"
   ]
  },
  {
   "cell_type": "markdown",
   "id": "c26ea9be",
   "metadata": {},
   "source": []
  }
 ],
 "metadata": {
  "kernelspec": {
   "display_name": "venv",
   "language": "python",
   "name": "python3"
  },
  "language_info": {
   "codemirror_mode": {
    "name": "ipython",
    "version": 3
   },
   "file_extension": ".py",
   "mimetype": "text/x-python",
   "name": "python",
   "nbconvert_exporter": "python",
   "pygments_lexer": "ipython3",
   "version": "3.12.3"
  }
 },
 "nbformat": 4,
 "nbformat_minor": 5
}
